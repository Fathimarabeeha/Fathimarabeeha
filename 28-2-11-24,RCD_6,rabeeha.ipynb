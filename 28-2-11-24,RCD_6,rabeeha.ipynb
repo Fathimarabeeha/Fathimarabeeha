{
 "cells": [
  {
   "cell_type": "code",
   "execution_count": 8,
   "id": "85662c49",
   "metadata": {},
   "outputs": [
    {
     "name": "stdout",
     "output_type": "stream",
     "text": [
      "Enter the current year :2024\n",
      "Enter the final year :2050\n",
      "Leap years from current year to final year are:\n",
      "2024\n",
      "2028\n",
      "2032\n",
      "2036\n",
      "2040\n",
      "2044\n",
      "2048\n"
     ]
    }
   ],
   "source": [
    "def is_leap_year(year):\n",
    "    return (year % 4 == 0 and year % 100 != 0) or (year % 400 == 0)\n",
    "\n",
    "\n",
    "\n",
    "current_year=int(input(\"Enter the current year :\"))\n",
    "final_year=int(input(\"Enter the final year :\"))\n",
    "print(\"Leap years from current year to final year are:\")\n",
    "for year in range(current_year, final_year + 1):\n",
    "    if is_leap_year(year):\n",
    "        print(year)\n"
   ]
  },
  {
   "cell_type": "code",
   "execution_count": 21,
   "id": "2cabda4e",
   "metadata": {},
   "outputs": [
    {
     "name": "stdout",
     "output_type": "stream",
     "text": [
      "Enter a number :5\n",
      "The factorial of 5 is 120\n"
     ]
    }
   ],
   "source": [
    "def factorial(n):\n",
    "    if n==0 or n==1:\n",
    "        return 1\n",
    "    else:\n",
    "        return n * factorial(n-1)\n",
    "    \n",
    "num=int(input(\"Enter a number :\"))\n",
    "print(f\"The factorial of {num} is {factorial(num)}\")"
   ]
  },
  {
   "cell_type": "code",
   "execution_count": 34,
   "id": "ad507ac8",
   "metadata": {},
   "outputs": [
    {
     "name": "stdout",
     "output_type": "stream",
     "text": [
      "Enter the number of terms for the Fibonacci series: 5\n",
      "Fibonacci series:\n",
      "0\n",
      "1\n",
      "1\n",
      "2\n",
      "3\n"
     ]
    }
   ],
   "source": [
    "def fibonacci(n):\n",
    "    a, b = 0, 1  \n",
    "    for i in range(n):\n",
    "        print(a)  \n",
    "        a, b = b, a + b  \n",
    "\n",
    "num = int(input(\"Enter the number of terms for the Fibonacci series: \"))\n",
    "print(\"Fibonacci series:\")\n",
    "fibonacci(num)"
   ]
  },
  {
   "cell_type": "code",
   "execution_count": null,
   "id": "aaac3afd",
   "metadata": {},
   "outputs": [],
   "source": []
  }
 ],
 "metadata": {
  "kernelspec": {
   "display_name": "Python 3 (ipykernel)",
   "language": "python",
   "name": "python3"
  },
  "language_info": {
   "codemirror_mode": {
    "name": "ipython",
    "version": 3
   },
   "file_extension": ".py",
   "mimetype": "text/x-python",
   "name": "python",
   "nbconvert_exporter": "python",
   "pygments_lexer": "ipython3",
   "version": "3.11.5"
  }
 },
 "nbformat": 4,
 "nbformat_minor": 5
}
