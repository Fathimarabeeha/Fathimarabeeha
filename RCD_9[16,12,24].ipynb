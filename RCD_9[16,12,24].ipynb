{
 "cells": [
  {
   "cell_type": "code",
   "execution_count": 12,
   "id": "a4a2361c",
   "metadata": {},
   "outputs": [
    {
     "name": "stdout",
     "output_type": "stream",
     "text": [
      "Enter the sorce file:y.txt\n",
      "lines in the file: 2\n"
     ]
    }
   ],
   "source": [
    "#NUMBER OF LINES IN A FILE\n",
    "l=[]\n",
    "file1=input(\"Enter the sorce file:\")\n",
    "f=open(file1,\"r\")\n",
    "for line in  f.readlines():\n",
    "    l.append(line)\n",
    "print(\"lines in the file:\",len(l))"
   ]
  },
  {
   "cell_type": "code",
   "execution_count": 13,
   "id": "ec38d210",
   "metadata": {},
   "outputs": [
    {
     "name": "stdout",
     "output_type": "stream",
     "text": [
      "Enter the source filey.txt\n",
      "Enter destination file:Rabeeha python\n"
     ]
    }
   ],
   "source": [
    "#OOD LINES\n",
    "file1=input(\"Enter the source file\")\n",
    "file2=input(\"Enter destination file:\")\n",
    "f1=open(file1,\"r\")\n",
    "f2=open(file2,\"w\")\n",
    "i=0\n",
    "for line in f1.readlines():\n",
    "    i=i+1\n",
    "    if i%2==0:\n",
    "        continue\n",
    "    f2.write(line)\n",
    "f1.close()\n",
    "f2.close()"
   ]
  },
  {
   "cell_type": "code",
   "execution_count": 20,
   "id": "25ffa4ba",
   "metadata": {},
   "outputs": [
    {
     "name": "stderr",
     "output_type": "stream",
     "text": [
      "<>:9: SyntaxWarning: 'int' object is not subscriptable; perhaps you missed a comma?\n",
      "<>:9: SyntaxWarning: 'int' object is not subscriptable; perhaps you missed a comma?\n",
      "<>:9: SyntaxWarning: 'int' object is not subscriptable; perhaps you missed a comma?\n",
      "<>:9: SyntaxWarning: 'int' object is not subscriptable; perhaps you missed a comma?\n",
      "<>:9: SyntaxWarning: 'int' object is not subscriptable; perhaps you missed a comma?\n",
      "<>:9: SyntaxWarning: 'int' object is not subscriptable; perhaps you missed a comma?\n",
      "<>:9: SyntaxWarning: 'int' object is not subscriptable; perhaps you missed a comma?\n",
      "<>:9: SyntaxWarning: 'int' object is not subscriptable; perhaps you missed a comma?\n",
      "<>:9: SyntaxWarning: 'int' object is not subscriptable; perhaps you missed a comma?\n",
      "<>:9: SyntaxWarning: 'int' object is not subscriptable; perhaps you missed a comma?\n"
     ]
    },
    {
     "name": "stdout",
     "output_type": "stream",
     "text": [
      "Enter new source file name:y.txt\n"
     ]
    },
    {
     "name": "stderr",
     "output_type": "stream",
     "text": [
      "/tmp/ipykernel_9631/2776275154.py:9: SyntaxWarning: 'int' object is not subscriptable; perhaps you missed a comma?\n",
      "  writer.writerow({'empid':1[0],'empname':1[1],'dptname':1[2],'dob':1[3],'salary':1[4]})\n",
      "/tmp/ipykernel_9631/2776275154.py:9: SyntaxWarning: 'int' object is not subscriptable; perhaps you missed a comma?\n",
      "  writer.writerow({'empid':1[0],'empname':1[1],'dptname':1[2],'dob':1[3],'salary':1[4]})\n",
      "/tmp/ipykernel_9631/2776275154.py:9: SyntaxWarning: 'int' object is not subscriptable; perhaps you missed a comma?\n",
      "  writer.writerow({'empid':1[0],'empname':1[1],'dptname':1[2],'dob':1[3],'salary':1[4]})\n",
      "/tmp/ipykernel_9631/2776275154.py:9: SyntaxWarning: 'int' object is not subscriptable; perhaps you missed a comma?\n",
      "  writer.writerow({'empid':1[0],'empname':1[1],'dptname':1[2],'dob':1[3],'salary':1[4]})\n",
      "/tmp/ipykernel_9631/2776275154.py:9: SyntaxWarning: 'int' object is not subscriptable; perhaps you missed a comma?\n",
      "  writer.writerow({'empid':1[0],'empname':1[1],'dptname':1[2],'dob':1[3],'salary':1[4]})\n"
     ]
    },
    {
     "ename": "ValueError",
     "evalue": "illegal newline value: jas f1",
     "output_type": "error",
     "traceback": [
      "\u001b[0;31m---------------------------------------------------------------------------\u001b[0m",
      "\u001b[0;31mValueError\u001b[0m                                Traceback (most recent call last)",
      "Cell \u001b[0;32mIn[20], line 3\u001b[0m\n\u001b[1;32m      1\u001b[0m \u001b[38;5;28;01mimport\u001b[39;00m \u001b[38;5;21;01mcsv\u001b[39;00m\n\u001b[1;32m      2\u001b[0m file\u001b[38;5;241m=\u001b[39m\u001b[38;5;28minput\u001b[39m(\u001b[38;5;124m\"\u001b[39m\u001b[38;5;124mEnter new source file name:\u001b[39m\u001b[38;5;124m\"\u001b[39m)\n\u001b[0;32m----> 3\u001b[0m \u001b[38;5;28;01mwith\u001b[39;00m \u001b[38;5;28mopen\u001b[39m(file1,\u001b[38;5;124m\"\u001b[39m\u001b[38;5;124ma+\u001b[39m\u001b[38;5;124m\"\u001b[39m,newline\u001b[38;5;241m=\u001b[39m\u001b[38;5;124m\"\u001b[39m\u001b[38;5;124mjas f1\u001b[39m\u001b[38;5;124m\"\u001b[39m):\n\u001b[1;32m      4\u001b[0m     empdata\u001b[38;5;241m=\u001b[39m[\u001b[38;5;124m\"\u001b[39m\u001b[38;5;124mempid\u001b[39m\u001b[38;5;124m\"\u001b[39m,\u001b[38;5;124m\"\u001b[39m\u001b[38;5;124mempname\u001b[39m\u001b[38;5;124m\"\u001b[39m,\u001b[38;5;124m\"\u001b[39m\u001b[38;5;124mdptname\u001b[39m\u001b[38;5;124m\"\u001b[39m,\u001b[38;5;124m\"\u001b[39m\u001b[38;5;124mdob\u001b[39m\u001b[38;5;124m\"\u001b[39m,\u001b[38;5;124m\"\u001b[39m\u001b[38;5;124msalary\u001b[39m\u001b[38;5;124m\"\u001b[39m]\n\u001b[1;32m      5\u001b[0m     i\u001b[38;5;241m=\u001b[39m[]\n",
      "File \u001b[0;32m~/anaconda3/lib/python3.11/site-packages/IPython/core/interactiveshell.py:286\u001b[0m, in \u001b[0;36m_modified_open\u001b[0;34m(file, *args, **kwargs)\u001b[0m\n\u001b[1;32m    279\u001b[0m \u001b[38;5;28;01mif\u001b[39;00m file \u001b[38;5;129;01min\u001b[39;00m {\u001b[38;5;241m0\u001b[39m, \u001b[38;5;241m1\u001b[39m, \u001b[38;5;241m2\u001b[39m}:\n\u001b[1;32m    280\u001b[0m     \u001b[38;5;28;01mraise\u001b[39;00m \u001b[38;5;167;01mValueError\u001b[39;00m(\n\u001b[1;32m    281\u001b[0m         \u001b[38;5;124mf\u001b[39m\u001b[38;5;124m\"\u001b[39m\u001b[38;5;124mIPython won\u001b[39m\u001b[38;5;124m'\u001b[39m\u001b[38;5;124mt let you open fd=\u001b[39m\u001b[38;5;132;01m{\u001b[39;00mfile\u001b[38;5;132;01m}\u001b[39;00m\u001b[38;5;124m by default \u001b[39m\u001b[38;5;124m\"\u001b[39m\n\u001b[1;32m    282\u001b[0m         \u001b[38;5;124m\"\u001b[39m\u001b[38;5;124mas it is likely to crash IPython. If you know what you are doing, \u001b[39m\u001b[38;5;124m\"\u001b[39m\n\u001b[1;32m    283\u001b[0m         \u001b[38;5;124m\"\u001b[39m\u001b[38;5;124myou can use builtins\u001b[39m\u001b[38;5;124m'\u001b[39m\u001b[38;5;124m open.\u001b[39m\u001b[38;5;124m\"\u001b[39m\n\u001b[1;32m    284\u001b[0m     )\n\u001b[0;32m--> 286\u001b[0m \u001b[38;5;28;01mreturn\u001b[39;00m io_open(file, \u001b[38;5;241m*\u001b[39margs, \u001b[38;5;241m*\u001b[39m\u001b[38;5;241m*\u001b[39mkwargs)\n",
      "\u001b[0;31mValueError\u001b[0m: illegal newline value: jas f1"
     ]
    }
   ],
   "source": [
    "import csv\n",
    "file=input(\"Enter new source file name:\")\n",
    "with open(file1,\"a+\",newline=\"jas f1\"):\n",
    "    empdata=[\"empid\",\"empname\",\"dptname\",\"dob\",\"salary\"]\n",
    "    i=[]\n",
    "    writer=csv.Dictwriter(f1,fieldnames=empdata)\n",
    "    for i in range[2]:\n",
    "        i=list(input(\"Enter comma seperated empid,empname,dptname,salary:\").split(\",\"))\n",
    "        writer.writerow({'empid':1[0],'empname':1[1],'dptname':1[2],'dob':1[3],'salary':1[4]})\n",
    "        i.clear()\n",
    "    print(\"The csv file contains:\")\n",
    "    with open(file1,y)as f2:\n",
    "        rdr=csv.DictReader(f2)\n",
    "        for item in rdr:\n",
    "            print(divt(item))"
   ]
  },
  {
   "cell_type": "code",
   "execution_count": 19,
   "id": "50fe4745",
   "metadata": {},
   "outputs": [
    {
     "name": "stdout",
     "output_type": "stream",
     "text": [
      "Enter csv file name: y.txt\n",
      "['12345']\n",
      "['asdfgh']\n"
     ]
    }
   ],
   "source": [
    "import csv\n",
    "fname=input(\"Enter csv file name: \")\n",
    "f1=open(fname,\"r\")\n",
    "reader=csv.reader(f1)\n",
    "for row in reader:\n",
    "    print(row)\n",
    "f1.close()"
   ]
  },
  {
   "cell_type": "code",
   "execution_count": 22,
   "id": "f302b308",
   "metadata": {},
   "outputs": [
    {
     "name": "stdout",
     "output_type": "stream",
     "text": [
      "Enter new filename with extension csv: y.txt\n"
     ]
    },
    {
     "ename": "ValueError",
     "evalue": "I/O operation on closed file.",
     "output_type": "error",
     "traceback": [
      "\u001b[0;31m---------------------------------------------------------------------------\u001b[0m",
      "\u001b[0;31mValueError\u001b[0m                                Traceback (most recent call last)",
      "Cell \u001b[0;32mIn[22], line 7\u001b[0m\n\u001b[1;32m      5\u001b[0m     l\u001b[38;5;241m=\u001b[39m[]\n\u001b[1;32m      6\u001b[0m writer\u001b[38;5;241m=\u001b[39mcsv\u001b[38;5;241m.\u001b[39mDictWriter(f1,fieldnames\u001b[38;5;241m=\u001b[39mempdata)\n\u001b[0;32m----> 7\u001b[0m writer\u001b[38;5;241m.\u001b[39mwriteheader()\n\u001b[1;32m      8\u001b[0m n\u001b[38;5;241m=\u001b[39m\u001b[38;5;28mint\u001b[39m(\u001b[38;5;28minput\u001b[39m(\u001b[38;5;124m\"\u001b[39m\u001b[38;5;124mEnter number of dept: \u001b[39m\u001b[38;5;124m\"\u001b[39m))\n\u001b[1;32m      9\u001b[0m \u001b[38;5;28;01mfor\u001b[39;00m i \u001b[38;5;129;01min\u001b[39;00m \u001b[38;5;28mrange\u001b[39m(n):\n",
      "File \u001b[0;32m~/anaconda3/lib/python3.11/csv.py:143\u001b[0m, in \u001b[0;36mDictWriter.writeheader\u001b[0;34m(self)\u001b[0m\n\u001b[1;32m    141\u001b[0m \u001b[38;5;28;01mdef\u001b[39;00m \u001b[38;5;21mwriteheader\u001b[39m(\u001b[38;5;28mself\u001b[39m):\n\u001b[1;32m    142\u001b[0m     header \u001b[38;5;241m=\u001b[39m \u001b[38;5;28mdict\u001b[39m(\u001b[38;5;28mzip\u001b[39m(\u001b[38;5;28mself\u001b[39m\u001b[38;5;241m.\u001b[39mfieldnames, \u001b[38;5;28mself\u001b[39m\u001b[38;5;241m.\u001b[39mfieldnames))\n\u001b[0;32m--> 143\u001b[0m     \u001b[38;5;28;01mreturn\u001b[39;00m \u001b[38;5;28mself\u001b[39m\u001b[38;5;241m.\u001b[39mwriterow(header)\n",
      "File \u001b[0;32m~/anaconda3/lib/python3.11/csv.py:154\u001b[0m, in \u001b[0;36mDictWriter.writerow\u001b[0;34m(self, rowdict)\u001b[0m\n\u001b[1;32m    153\u001b[0m \u001b[38;5;28;01mdef\u001b[39;00m \u001b[38;5;21mwriterow\u001b[39m(\u001b[38;5;28mself\u001b[39m, rowdict):\n\u001b[0;32m--> 154\u001b[0m     \u001b[38;5;28;01mreturn\u001b[39;00m \u001b[38;5;28mself\u001b[39m\u001b[38;5;241m.\u001b[39mwriter\u001b[38;5;241m.\u001b[39mwriterow(\u001b[38;5;28mself\u001b[39m\u001b[38;5;241m.\u001b[39m_dict_to_list(rowdict))\n",
      "\u001b[0;31mValueError\u001b[0m: I/O operation on closed file."
     ]
    }
   ],
   "source": [
    "import csv\n",
    "file1=input(\"Enter new filename with extension csv: \")\n",
    "with open (file1,\"a+\",newline='')as f1:\n",
    "    empdata=[\"deptid\",\"deptname\",\"TE\",\"location\"]\n",
    "    l=[]\n",
    "writer=csv.DictWriter(f1,fieldnames=empdata)\n",
    "writer.writeheader()\n",
    "n=int(input(\"Enter number of dept: \"))\n",
    "for i in range(n):\n",
    "    l=list(input(\"Enter comma seperated deptid,deptname,TE,location: \").split(\",\"))\n",
    "    writer.writerow({'deptid':l[0],'deptname':l[1],'TE':l[2],'location':l[3]})\n",
    "    l.clear()\n",
    "    print(\"DepartmentID. DepartmentName\")\n",
    "with open (file1,'r') as f2:\n",
    "    rdr=csv.DictReader(f2)\n",
    "    for item in rdr:\n",
    "    ## print(item['deptid'],\" \",item['deptname'])\n",
    "     print(item['deptid'],\" \",item['deptname'])"
   ]
  },
  {
   "cell_type": "code",
   "execution_count": null,
   "id": "7d3bd895",
   "metadata": {},
   "outputs": [],
   "source": []
  }
 ],
 "metadata": {
  "kernelspec": {
   "display_name": "Python 3 (ipykernel)",
   "language": "python",
   "name": "python3"
  },
  "language_info": {
   "codemirror_mode": {
    "name": "ipython",
    "version": 3
   },
   "file_extension": ".py",
   "mimetype": "text/x-python",
   "name": "python",
   "nbconvert_exporter": "python",
   "pygments_lexer": "ipython3",
   "version": "3.11.5"
  }
 },
 "nbformat": 4,
 "nbformat_minor": 5
}
